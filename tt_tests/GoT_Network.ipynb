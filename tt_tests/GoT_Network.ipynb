{
 "cells": [
  {
   "cell_type": "markdown",
   "metadata": {},
   "source": [
    "## Network Visualization in Python\n",
    "\n",
    "- Helper notebook for article of same name published on Medium."
   ]
  },
  {
   "cell_type": "markdown",
   "metadata": {},
   "source": [
    "### Import"
   ]
  },
  {
   "cell_type": "code",
   "execution_count": 6,
   "metadata": {},
   "outputs": [
    {
     "name": "stderr",
     "output_type": "stream",
     "text": [
      "UsageError: Line magic function `%` not found.\n"
     ]
    }
   ],
   "source": [
    "import pandas as pd\n",
    "import networkx as nx\n",
    "import matplotlib.pyplot as plt\n",
    "% matplotlib inline"
   ]
  },
  {
   "cell_type": "markdown",
   "metadata": {},
   "source": [
    "### Load and process data"
   ]
  },
  {
   "cell_type": "code",
   "metadata": {
    "pycharm": {
     "name": "#%%\n"
    }
   },
   "source": [
    "# load data\n",
    "df = pd.read_csv( \"data/book1.csv\" )\n",
    "# pick only important weights (hard threshold)\n",
    "df = df.loc[ df[ 'weight' ] > 10, : ]\n",
    "df"
   ],
   "execution_count": 7,
   "outputs": [
    {
     "data": {
      "text/plain": "                              Source              Target        Type  weight  \\\n8    Aemon-Targaryen-(Maester-Aemon)        Jeor-Mormont  Undirected      13   \n9    Aemon-Targaryen-(Maester-Aemon)            Jon-Snow  Undirected      34   \n16                Aerys-II-Targaryen    Robert-Baratheon  Undirected      12   \n17                              Aggo  Daenerys-Targaryen  Undirected      11   \n30                    Alliser-Thorne            Jon-Snow  Undirected      32   \n..                               ...                 ...         ...     ...   \n658                   Sandor-Clegane         Sansa-Stark  Undirected      23   \n664                             Shae    Tyrion-Lannister  Undirected      12   \n666                           Shagga    Tyrion-Lannister  Undirected      17   \n676                 Tyrion-Lannister     Tywin-Lannister  Undirected      40   \n683                     Waymar-Royce     Will-(prologue)  Undirected      18   \n\n     book  \n8       1  \n9       1  \n16      1  \n17      1  \n30      1  \n..    ...  \n658     1  \n664     1  \n666     1  \n676     1  \n683     1  \n\n[175 rows x 5 columns]",
      "text/html": "<div>\n<style scoped>\n    .dataframe tbody tr th:only-of-type {\n        vertical-align: middle;\n    }\n\n    .dataframe tbody tr th {\n        vertical-align: top;\n    }\n\n    .dataframe thead th {\n        text-align: right;\n    }\n</style>\n<table border=\"1\" class=\"dataframe\">\n  <thead>\n    <tr style=\"text-align: right;\">\n      <th></th>\n      <th>Source</th>\n      <th>Target</th>\n      <th>Type</th>\n      <th>weight</th>\n      <th>book</th>\n    </tr>\n  </thead>\n  <tbody>\n    <tr>\n      <th>8</th>\n      <td>Aemon-Targaryen-(Maester-Aemon)</td>\n      <td>Jeor-Mormont</td>\n      <td>Undirected</td>\n      <td>13</td>\n      <td>1</td>\n    </tr>\n    <tr>\n      <th>9</th>\n      <td>Aemon-Targaryen-(Maester-Aemon)</td>\n      <td>Jon-Snow</td>\n      <td>Undirected</td>\n      <td>34</td>\n      <td>1</td>\n    </tr>\n    <tr>\n      <th>16</th>\n      <td>Aerys-II-Targaryen</td>\n      <td>Robert-Baratheon</td>\n      <td>Undirected</td>\n      <td>12</td>\n      <td>1</td>\n    </tr>\n    <tr>\n      <th>17</th>\n      <td>Aggo</td>\n      <td>Daenerys-Targaryen</td>\n      <td>Undirected</td>\n      <td>11</td>\n      <td>1</td>\n    </tr>\n    <tr>\n      <th>30</th>\n      <td>Alliser-Thorne</td>\n      <td>Jon-Snow</td>\n      <td>Undirected</td>\n      <td>32</td>\n      <td>1</td>\n    </tr>\n    <tr>\n      <th>...</th>\n      <td>...</td>\n      <td>...</td>\n      <td>...</td>\n      <td>...</td>\n      <td>...</td>\n    </tr>\n    <tr>\n      <th>658</th>\n      <td>Sandor-Clegane</td>\n      <td>Sansa-Stark</td>\n      <td>Undirected</td>\n      <td>23</td>\n      <td>1</td>\n    </tr>\n    <tr>\n      <th>664</th>\n      <td>Shae</td>\n      <td>Tyrion-Lannister</td>\n      <td>Undirected</td>\n      <td>12</td>\n      <td>1</td>\n    </tr>\n    <tr>\n      <th>666</th>\n      <td>Shagga</td>\n      <td>Tyrion-Lannister</td>\n      <td>Undirected</td>\n      <td>17</td>\n      <td>1</td>\n    </tr>\n    <tr>\n      <th>676</th>\n      <td>Tyrion-Lannister</td>\n      <td>Tywin-Lannister</td>\n      <td>Undirected</td>\n      <td>40</td>\n      <td>1</td>\n    </tr>\n    <tr>\n      <th>683</th>\n      <td>Waymar-Royce</td>\n      <td>Will-(prologue)</td>\n      <td>Undirected</td>\n      <td>18</td>\n      <td>1</td>\n    </tr>\n  </tbody>\n</table>\n<p>175 rows × 5 columns</p>\n</div>"
     },
     "execution_count": 7,
     "metadata": {},
     "output_type": "execute_result"
    }
   ]
  },
  {
   "cell_type": "code",
   "execution_count": 8,
   "metadata": {},
   "outputs": [
    {
     "name": "stdout",
     "output_type": "stream",
     "text": [
      "No of unique characters: 80\n",
      "No of connections: 175\n"
     ]
    }
   ],
   "source": [
    "# import\n",
    "import networkx as nx\n",
    "\n",
    "# load pandas df as networkx graph\n",
    "G = nx.from_pandas_edgelist( df,\n",
    "                             source='Source',\n",
    "                             target='Target',\n",
    "                             edge_attr='weight' )\n",
    "print( \"No of unique characters:\", len( G.nodes ) )\n",
    "print( \"No of connections:\", len( G.edges ) )\n"
   ]
  },
  {
   "cell_type": "markdown",
   "metadata": {},
   "source": [
    "## Option 1: NetworkX"
   ]
  },
  {
   "cell_type": "code",
   "execution_count": 9,
   "metadata": {},
   "outputs": [
    {
     "data": {
      "text/plain": "<Figure size 800x600 with 1 Axes>",
      "image/png": "[encoded data removed]"
     },
     "metadata": {},
     "output_type": "display_data"
    }
   ],
   "source": [
    "# all graph options\n",
    "graphs_viz_options = [ nx.draw, nx.draw_networkx, nx.draw_circular, nx.draw_kamada_kawai, nx.draw_random, nx.draw_shell,\n",
    "                       nx.draw_spring ]\n",
    "\n",
    "# plot graph option\n",
    "selected_graph_option = 0\n",
    "\n",
    "# plot\n",
    "plt.figure( figsize=(8, 6), dpi=100 )\n",
    "graphs_viz_options[ selected_graph_option ]( G )"
   ]
  },
  {
   "cell_type": "markdown",
   "metadata": {},
   "source": [
    "## Option 2: PyVis"
   ]
  },
  {
   "cell_type": "code",
   "execution_count": 11,
   "metadata": {},
   "outputs": [
    {
     "data": {
      "text/plain": "<IPython.lib.display.IFrame at 0x121d4cbb0>",
      "text/html": "\n        <iframe\n            width=\"1000\"\n            height=\"600\"\n            src=\"example.html\"\n            frameborder=\"0\"\n            allowfullscreen\n            \n        ></iframe>\n        "
     },
     "execution_count": 11,
     "metadata": {},
     "output_type": "execute_result"
    }
   ],
   "source": [
    "# import pyvis\n",
    "from pyvis.network import Network\n",
    "\n",
    "# create vis network\n",
    "net = Network( notebook=True, width=1000, height=600 )\n",
    "# load the networkx graph\n",
    "net.from_nx( G )\n",
    "# show\n",
    "net.show( \"example.html\" )"
   ]
  },
  {
   "cell_type": "markdown",
   "metadata": {},
   "source": [
    "## Option 3: Visdcc in Dash\n",
    "\n",
    "- See `dash_app.py` file for the demo."
   ]
  },
  {
   "cell_type": "markdown",
   "metadata": {},
   "source": [
    "### Extra - get all draw functions in NetworkX"
   ]
  },
  {
   "cell_type": "code",
   "execution_count": 12,
   "metadata": {},
   "outputs": [
    {
     "name": "stdout",
     "output_type": "stream",
     "text": [
      "('draw', <function draw at 0x120531c10>)\n",
      "('draw_circular', <function draw_circular at 0x120531f70>)\n",
      "('draw_kamada_kawai', <function draw_kamada_kawai at 0x12053e040>)\n",
      "('draw_networkx', <function draw_networkx at 0x120531ca0>)\n",
      "('draw_networkx_edge_labels', <function draw_networkx_edge_labels at 0x120531ee0>)\n",
      "('draw_networkx_edges', <function draw_networkx_edges at 0x120531dc0>)\n",
      "('draw_networkx_labels', <function draw_networkx_labels at 0x120531e50>)\n",
      "('draw_networkx_nodes', <function draw_networkx_nodes at 0x120531d30>)\n",
      "('draw_planar', <function draw_planar at 0x12053e310>)\n",
      "('draw_random', <function draw_random at 0x12053e0d0>)\n",
      "('draw_shell', <function draw_shell at 0x12053e280>)\n",
      "('draw_spectral', <function draw_spectral at 0x12053e160>)\n",
      "('draw_spring', <function draw_spring at 0x12053e1f0>)\n",
      "('drawing', <module 'networkx.drawing' from '/Users/thomastiotto/mambaforge/envs/brian/lib/python3.8/site-packages/networkx/drawing/__init__.py'>)\n",
      "('planar_drawing', <module 'networkx.algorithms.planar_drawing' from '/Users/thomastiotto/mambaforge/envs/brian/lib/python3.8/site-packages/networkx/algorithms/planar_drawing.py'>)\n"
     ]
    }
   ],
   "source": [
    "from inspect import getmembers\n",
    "\n",
    "for x in getmembers( nx ):\n",
    "    if 'draw' in x[ 0 ]:\n",
    "        print( x )"
   ]
  },
  {
   "cell_type": "code",
   "execution_count": 13,
   "metadata": {},
   "outputs": [
    {
     "name": "stdout",
     "output_type": "stream",
     "text": [
      "                                from                  to  weight strength\n",
      "0    Aemon-Targaryen-(Maester-Aemon)        Jeor-Mormont      13   medium\n",
      "1    Aemon-Targaryen-(Maester-Aemon)            Jon-Snow      34   medium\n",
      "2                 Aerys-II-Targaryen    Robert-Baratheon      12   medium\n",
      "3                               Aggo  Daenerys-Targaryen      11   medium\n",
      "4                     Alliser-Thorne            Jon-Snow      32   medium\n",
      "..                               ...                 ...     ...      ...\n",
      "170                   Sandor-Clegane         Sansa-Stark      23   medium\n",
      "171                             Shae    Tyrion-Lannister      12   medium\n",
      "172                           Shagga    Tyrion-Lannister      17   medium\n",
      "173                 Tyrion-Lannister     Tywin-Lannister      40   medium\n",
      "174                     Waymar-Royce     Will-(prologue)      18   medium\n",
      "\n",
      "[175 rows x 4 columns]\n",
      "Parsing the data...Done\n",
      "Dash is running on http://127.0.0.1:8050/\n",
      "\n",
      " * Serving Flask app '__main__' (lazy loading)\n",
      " * Environment: production\n",
      "\u001B[31m   WARNING: This is a development server. Do not use it in a production deployment.\u001B[0m\n",
      "\u001B[2m   Use a production WSGI server instead.\u001B[0m\n",
      " * Debug mode: off\n"
     ]
    },
    {
     "name": "stderr",
     "output_type": "stream",
     "text": [
      "/Users/thomastiotto/mambaforge/envs/brian/lib/python3.8/site-packages/dash_bootstrap_components/_table.py:5: UserWarning: \n",
      "The dash_html_components package is deprecated. Please replace\n",
      "`import dash_html_components as html` with `from dash import html`\n",
      "  import dash_html_components as html\n",
      " * Running on http://127.0.0.1:8050/ (Press CTRL+C to quit)\n"
     ]
    }
   ],
   "source": [
    "# import\n",
    "from jaal import Jaal\n",
    "from jaal.datasets import load_got\n",
    "\n",
    "# load the data\n",
    "edge_df, node_df = load_got()\n",
    "print( edge_df )\n",
    "# add edge labels\n",
    "edge_df.loc[ :, 'label' ] = edge_df.loc[ :, 'weight' ].astype( str )\n",
    "# init Jaal and run server\n",
    "Jaal( edge_df, node_df ).plot( directed=True )"
   ]
  },
  {
   "cell_type": "code",
   "execution_count": null,
   "metadata": {},
   "outputs": [],
   "source": []
  }
 ],
 "metadata": {
  "kernelspec": {
   "display_name": "Python 3 (ipykernel)",
   "language": "python",
   "name": "python3"
  },
  "language_info": {
   "codemirror_mode": {
    "name": "ipython",
    "version": 3
   },
   "file_extension": ".py",
   "mimetype": "text/x-python",
   "name": "python",
   "nbconvert_exporter": "python",
   "pygments_lexer": "ipython3",
   "version": "3.8.12"
  }
 },
 "nbformat": 4,
 "nbformat_minor": 2
}