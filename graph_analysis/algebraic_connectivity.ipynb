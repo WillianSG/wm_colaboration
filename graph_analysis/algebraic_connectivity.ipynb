{
 "cells": [
  {
   "cell_type": "code",
   "execution_count": 33,
   "metadata": {},
   "outputs": [],
   "source": [
    "import numpy as np\n",
    "import networkx as nx\n",
    "import scipy.linalg as la\n",
    "import scipy.sparse.linalg as spla\n",
    "import matplotlib.pyplot as plt\n",
    "from algebraic_connectivity_directed.algebraic_connectivity_directed import *"
   ]
  },
  {
   "cell_type": "markdown",
   "metadata": {},
   "source": [
    "https://github.com/statsmodels/statsmodels/issues/3039\n"
   ]
  },
  {
   "cell_type": "markdown",
   "source": [
    "Usage\n",
    "After installation, run from algebraic_connectivity_directed.algebraic_connectivity_directed import *\n",
    "There are 3 main functions:\n",
    "Function algebraic_connectivity_directed: algebraic_connectivity_directed(G) returns a, b, M where a is the algebraic connectivity of the digraph G. The graph G is a networkx DiGraph object. The definitions of a, b, M = Q'*(L+L')*Q/2 can be found in Ref. [2].\n",
    "Function algebraic_connectivity_directed_variants: algebraic_connectivity_directed_variants(G,k) returns variations of algebraic connectivity of the digraph G. The graph G is a networkx DiGraph object. Setting k = 1, 2, 3, 4 returns a1, a2, a3, a4 as defined in Ref. [5].\n",
    "Function compute_mu_directed: compute_mu_directed(G) returns mu(G) defined as the supremum of numbers μ such that U(L-μ*I)+(L'-μ*I)U is positive semidefinite for some symmetric zero row sums real matrix U with nonpositive off-diagonal elements where L is the Laplacian matrix of graph G (see Ref. [1]).\n",
    "compute_mu_directed accepts multiple arguments. If the input are multiple graphs G1, G2, G3, ... with Li the Laplacian matrix of Gi, and all Gi have the same number of nodes, then compute_mu_directed(G1, G2, G3, ...) returns the supremum of μ such that there exist some symmetric zero row sums real matrix U with nonpositive off-diagonal elements where for all i, U(Li-μ*I)+(Li '-μ*I)U is positive semidefinite. This is useful in analyzing synchronization of networked systems where systems are coupled via multiple networks. See Ref. [6]. The graph G is a networkx DiGraph object.\n",
    "a1 is the same as the value returned by algebraic_connectivity_directed(G)[0] (see Ref. [2]).\n",
    "a2 is the same as ã as described in Ref. [3].\n",
    "a3 is described in the proof of Theorem 21 in Ref. [3].\n",
    "a4 is equal to η as described in Ref. [4].\n",
    "If the reversal of the graph does not contain a spanning directed tree, then a2 ≤ 0.\n",
    "If G is strongly connected then a3 ≥ a2 > 0.\n",
    "a4 > 0 if and only if the reversal of the graph contains a spanning directed tree.\n",
    "Examples\n",
    "Cycle graph\n",
    "from algebraic_connectivity_directed.algebraic_connectivity_directed import *\n",
    "import networkx as nx\n",
    "import numpy as np\n",
    "G = nx.cycle_graph(10,create_using=nx.DiGraph)\n",
    "print(algebraic_connectivity_directed(G)[0:2])\n",
    "\n",
    ">> (0.19098300562505233, 2.0)\n",
    "print(algebraic_connectivity_directed_variants(G,2))\n",
    ">> 0.1909830056250514\n",
    "Directed graphs of 5 nodes\n",
    "A1 = np.array([[0,0,1,0,0],[0,0,0,1,1],[1,0,0,1,1],[1,1,0,0,1],[0,0,0,1,0]])\n",
    "G1 = nx.from_numpy_matrix(A1,create_using=nx.DiGraph)\n",
    "print(compute_mu_directed(G1))\n",
    ">>> 0.8521009635833089\n",
    "print(algebraic_connectivity_directed_variants(G1, 4))\n",
    ">>> 0.6606088707716056\n",
    "A2 = np.array([[0,1,0,0,1],[0,0,0,1,0],[0,0,0,1,1],[1,0,0,0,0],[1,0,1,1,0]])\n",
    "G2 = nx.from_numpy_matrix(A2,create_using=nx.DiGraph)\n",
    "A3 = np.array([[0,1,0,0,0],[1,0,1,0,0],[0,1,0,0,0],[0,0,1,0,0],[1,1,1,0,0]])\n",
    "G3 = nx.from_numpy_matrix(A3,create_using=nx.DiGraph)\n",
    "print(compute_mu_directed(G1,G2,G3))\n",
    ">>> 0.8381214637786955"
   ],
   "metadata": {
    "collapsed": false
   }
  },
  {
   "cell_type": "code",
   "execution_count": 33,
   "outputs": [],
   "source": [],
   "metadata": {
    "collapsed": false,
    "pycharm": {
     "name": "#%%\n"
    }
   }
  },
  {
   "cell_type": "code",
   "execution_count": 52,
   "outputs": [
    {
     "name": "stdout",
     "output_type": "stream",
     "text": [
      "0.19098300562505266\n",
      "0.19098300562505244\n",
      "0.19098300562505197\n",
      "0.19098300562505238\n",
      "[(0, 2, {'weight': 0.1509509486823596}), (1, 3, {'weight': 0.8213215047424277}), (1, 4, {'weight': 0.16843334696913626}), (2, 0, {'weight': 0.8530695194897494}), (2, 3, {'weight': 0.7597941285965768}), (2, 4, {'weight': 0.40827085090089865}), (3, 0, {'weight': 0.30394813770813256}), (3, 1, {'weight': 0.9386674586848119}), (3, 4, {'weight': 0.7367780933827351}), (4, 3, {'weight': 0.4998592139959812})]\n",
      "0.14790996827469804\n",
      "0.14790996827469804\n",
      "0.0690673650682608\n",
      "0.13144155473483463\n",
      "1.283682922915193e-17\n"
     ]
    }
   ],
   "source": [
    "# cycle graph\n",
    "from algebraic_connectivity_directed.algebraic_connectivity_directed import *\n",
    "import networkx as nx\n",
    "import numpy as np\n",
    "\n",
    "G = nx.cycle_graph( 10, create_using=nx.DiGraph )\n",
    "print( algebraic_connectivity_directed( G )[ 0 ] )\n",
    "print( algebraic_connectivity_directed_variants( G, 2 ) )\n",
    "print( algebraic_connectivity_directed_variants( G, 3 ) )\n",
    "print( algebraic_connectivity_directed_variants( G, 4 ) )\n",
    "\n",
    "A1 = np.array( [ [ 0, 0, 1, 0, 0 ], [ 0, 0, 0, 1, 1 ], [ 1, 0, 0, 1, 1 ], [ 1, 1, 0, 0, 1 ], [ 0, 0, 0, 1, 0 ] ] )\n",
    "G = nx.DiGraph( A1 )\n",
    "for e in G.edges():\n",
    "    G[ e[ 0 ] ][ e[ 1 ] ][ 'weight' ] = np.random.rand()\n",
    "print( G.edges( data=True ) )\n",
    "print( algebraic_connectivity_directed( G )[ 0 ] )\n",
    "print( algebraic_connectivity_directed_variants( G, 1 ) )\n",
    "print( algebraic_connectivity_directed_variants( G, 2 ) )\n",
    "print( algebraic_connectivity_directed_variants( G, 3 ) )\n",
    "print( algebraic_connectivity_directed_variants( G, 4 ) )"
   ],
   "metadata": {
    "collapsed": false,
    "pycharm": {
     "name": "#%%\n"
    }
   }
  },
  {
   "cell_type": "code",
   "execution_count": 49,
   "outputs": [
    {
     "name": "stdout",
     "output_type": "stream",
     "text": [
      "0.8521009635833086\n",
      "0.6606088707716065\n",
      "0.8411585820083546\n"
     ]
    }
   ],
   "source": [
    "# Directed graphs of 5 nodes\n",
    "A1 = np.array( [ [ 0, 0, 1, 0, 0 ], [ 0, 0, 0, 1, 1 ], [ 1, 0, 0, 1, 1 ], [ 1, 1, 0, 0, 1 ], [ 0, 0, 0, 1, 0 ] ] )\n",
    "G1 = nx.from_numpy_matrix( A1, create_using=nx.DiGraph )\n",
    "print( compute_mu_directed( G1 ) )\n",
    "\n",
    "print( algebraic_connectivity_directed_variants( G1, 4 ) )\n",
    "\n",
    "A2 = np.array( [ [ 0, 1, 0, 0, 1 ], [ 0, 0, 0, 1, 0 ], [ 0, 0, 0, 1, 1 ], [ 1, 0, 0, 0, 0 ], [ 1, 0, 1, 1, 0 ] ] )\n",
    "G2 = nx.from_numpy_matrix( A2, create_using=nx.DiGraph )\n",
    "A3 = np.array( [ [ 0, 1, 0, 0, 0 ], [ 1, 0, 1, 0, 0 ], [ 0, 1, 0, 0, 0 ], [ 0, 0, 1, 0, 0 ], [ 1, 1, 1, 0, 0 ] ] )\n",
    "G3 = nx.from_numpy_matrix( A3, create_using=nx.DiGraph )\n",
    "print( compute_mu_directed( G1, G2, G3 ) )"
   ],
   "metadata": {
    "collapsed": false,
    "pycharm": {
     "name": "#%%\n"
    }
   }
  },
  {
   "cell_type": "code",
   "execution_count": 36,
   "metadata": {},
   "outputs": [],
   "source": [
    "def orthogonal_complement( x, normalize=True, threshold=1e-15 ):\n",
    "    \"\"\"Compute orthogonal complement of a matrix\n",
    "\n",
    "    this works along axis zero, i.e. rank == column rank,\n",
    "    or number of rows > column rank\n",
    "    otherwise orthogonal complement is empty\n",
    "\n",
    "    TODO possibly: use normalize='top' or 'bottom'\n",
    "\n",
    "    \"\"\"\n",
    "    x = np.asarray( x )\n",
    "    r, c = x.shape\n",
    "    if r < c:\n",
    "        import warnings\n",
    "        warnings.warn( 'fewer rows than columns', UserWarning )\n",
    "\n",
    "    # we assume svd is ordered by decreasing singular value, o.w. need sort\n",
    "    s, v, d = np.linalg.svd( x )\n",
    "    rank = (v > threshold).sum()\n",
    "\n",
    "    oc = s[ :, rank: ]\n",
    "\n",
    "    if normalize:\n",
    "        k_oc = oc.shape[ 1 ]\n",
    "        oc = oc.dot( np.linalg.inv( oc[ :k_oc, : ] ) )\n",
    "    return oc\n",
    "\n"
   ]
  },
  {
   "cell_type": "code",
   "execution_count": 37,
   "metadata": {},
   "outputs": [
    {
     "data": {
      "text/plain": "<Figure size 432x288 with 1 Axes>",
      "image/png": "[encoded data removed]"
     },
     "metadata": {},
     "output_type": "display_data"
    }
   ],
   "source": [
    "g_directed = nx.DiGraph()\n",
    "g_directed.add_edge( 0, 1 )\n",
    "g_directed.add_edge( 1, 0 )\n",
    "g_directed.add_edge( 1, 2 )\n",
    "\n",
    "nx.draw( g_directed, with_labels=True )\n",
    "plt.show()\n",
    "\n"
   ]
  },
  {
   "cell_type": "code",
   "execution_count": 38,
   "metadata": {},
   "outputs": [],
   "source": [
    "A_directed = nx.adjacency_matrix( g_directed )\n",
    "A_symmetric = 1 / 2 * (A_directed + A_directed.T)\n"
   ]
  },
  {
   "cell_type": "code",
   "execution_count": 39,
   "metadata": {},
   "outputs": [
    {
     "data": {
      "text/plain": "<Figure size 432x288 with 1 Axes>",
      "image/png": "[encoded data removed]"
     },
     "metadata": {},
     "output_type": "display_data"
    }
   ],
   "source": [
    "\n",
    "g_undirected = nx.from_numpy_array( A_symmetric )\n",
    "\n",
    "nx.draw( g_undirected, with_labels=True )\n",
    "plt.show()"
   ]
  },
  {
   "cell_type": "code",
   "execution_count": 40,
   "metadata": {},
   "outputs": [
    {
     "name": "stdout",
     "output_type": "stream",
     "text": [
      "D [[1 0 0]\n",
      " [0 2 0]\n",
      " [0 0 0]]\n",
      "[[ 0.98333333 -0.70302245 -0.175     ]\n",
      " [-0.70302245  0.98333333 -0.42761159]\n",
      " [-0.175      -0.42761159  0.66666667]]\n",
      "[[ 1.  -1.   0. ]\n",
      " [-1.   1.5 -0.5]\n",
      " [ 0.  -0.5  0.5]]\n",
      "(0.9125963856228956+0j)\n",
      "(0.6339745962155612+0j)\n",
      "0.6339745962155615\n"
     ]
    }
   ],
   "source": [
    "L_directed = nx.directed_laplacian_matrix( g_directed )\n",
    "L_undirected = nx.linalg.laplacian_matrix( g_undirected ).todense()\n",
    "\n",
    "D = g_directed.out_degree()\n",
    "D = np.diag( [ d[ 1 ] for d in D ] )\n",
    "print( 'D', D )\n",
    "# L_directed_2 =\n",
    "print( L_directed )\n",
    "print( L_undirected )\n",
    "# print( L_undirected_2 )\n",
    "\n",
    "print( la.eig( L_directed )[ 0 ][ 2 ] )\n",
    "print( la.eig( L_undirected )[ 0 ][ 2 ] )\n",
    "print( nx.linalg.algebraic_connectivity( g_undirected ) )"
   ]
  },
  {
   "cell_type": "markdown",
   "metadata": {},
   "source": [
    "Compute orthogonal complement in order to compute directed algebraic connectivity as defined in https://www-tandfonline-com.proxy-ub.rug.nl/doi/pdf/10.1080/03081080500054810?needAccess=true\n",
    "The orthogonal complement of vector(s) is the set of all vectors orthogonal to given ones"
   ]
  },
  {
   "cell_type": "code",
   "execution_count": 41,
   "metadata": {},
   "outputs": [
    {
     "name": "stdout",
     "output_type": "stream",
     "text": [
      "xxx\n",
      " [[1 0 1]\n",
      " [0 1 1]\n",
      " [1 1 1]\n",
      " [0 1 1]\n",
      " [2 0 1]]\n",
      "xxx^{\\perp} normalised\n",
      " [[ 1. -0.]\n",
      " [ 0.  1.]\n",
      " [ 1.  0.]\n",
      " [-1. -1.]\n",
      " [-1. -0.]]\n",
      "xxx^{\\perp}\n",
      " [[-0.06635725 -0.5303876 ]\n",
      " [-0.66845821  0.35297619]\n",
      " [-0.06635725 -0.5303876 ]\n",
      " [ 0.73481546  0.17741141]\n",
      " [ 0.06635725  0.5303876 ]]\n",
      "ocn^T \\dot xxx\n",
      " [[0. 0. 0.]\n",
      " [0. 0. 0.]]\n"
     ]
    }
   ],
   "source": [
    "xxx = np.array( [ [ 1, 0, 1, 0, 2 ], [ 0, 1, 1, 1, 0 ], [ 1, 1, 1, 1, 1 ] ] ).T\n",
    "ocn = np.round( orthogonal_complement( xxx, normalize=True ), 2 )\n",
    "print( 'xxx\\n', xxx )\n",
    "print( 'xxx^{\\perp} normalised\\n', ocn )\n",
    "print( 'xxx^{\\perp}\\n', orthogonal_complement( xxx, normalize=False ) )\n",
    "print( 'ocn^T \\dot xxx\\n', ocn.T.dot( xxx ) )"
   ]
  },
  {
   "cell_type": "code",
   "execution_count": 42,
   "outputs": [
    {
     "data": {
      "text/plain": "matrix([[0.],\n        [0.],\n        [0.]])"
     },
     "execution_count": 42,
     "metadata": {},
     "output_type": "execute_result"
    }
   ],
   "source": [
    "n = L_directed.shape[ 0 ]\n",
    "e = np.array( [ [ 1 ] ] * n )\n",
    "# check that e is a right eigenvector of L\n",
    "L_undirected @ e"
   ],
   "metadata": {
    "collapsed": false,
    "pycharm": {
     "name": "#%%\n"
    }
   }
  }
 ],
 "metadata": {
  "interpreter": {
   "hash": "c9d1d671da8284e133820c9faa046e5f7529aed0b24d7f8a3ea6e47ae604cc1b"
  },
  "kernelspec": {
   "display_name": "Python 3.9.7 64-bit ('brian': conda)",
   "name": "python3"
  },
  "language_info": {
   "codemirror_mode": {
    "name": "ipython",
    "version": 3
   },
   "file_extension": ".py",
   "mimetype": "text/x-python",
   "name": "python",
   "nbconvert_exporter": "python",
   "pygments_lexer": "ipython3",
   "version": "3.9.7"
  },
  "orig_nbformat": 4
 },
 "nbformat": 4,
 "nbformat_minor": 2
}