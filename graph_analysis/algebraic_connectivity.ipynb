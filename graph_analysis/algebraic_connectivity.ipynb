{
 "cells": [
  {
   "cell_type": "code",
   "execution_count": 1,
   "metadata": {},
   "outputs": [],
   "source": [
    "import numpy as np\n",
    "import networkx as nx\n",
    "import scipy.linalg as la\n",
    "import scipy.sparse.linalg as spla\n",
    "import matplotlib.pyplot as plt"
   ]
  },
  {
   "cell_type": "markdown",
   "metadata": {},
   "source": [
    "https://github.com/statsmodels/statsmodels/issues/3039\n"
   ]
  },
  {
   "cell_type": "code",
   "execution_count": 2,
   "metadata": {},
   "outputs": [],
   "source": [
    "def orthogonal_complement(x, normalize=True, threshold=1e-15):\n",
    "    \"\"\"Compute orthogonal complement of a matrix\n",
    "\n",
    "    this works along axis zero, i.e. rank == column rank,\n",
    "    or number of rows > column rank\n",
    "    otherwise orthogonal complement is empty\n",
    "\n",
    "    TODO possibly: use normalize='top' or 'bottom'\n",
    "\n",
    "    \"\"\"\n",
    "    x = np.asarray(x)\n",
    "    r, c = x.shape\n",
    "    if r < c:\n",
    "        import warnings\n",
    "        warnings.warn('fewer rows than columns', UserWarning)\n",
    "\n",
    "    # we assume svd is ordered by decreasing singular value, o.w. need sort\n",
    "    s, v, d = np.linalg.svd(x)\n",
    "    rank = (v > threshold).sum()\n",
    "\n",
    "    oc = s[:, rank:]\n",
    "\n",
    "    if normalize:\n",
    "        k_oc = oc.shape[1]\n",
    "        oc = oc.dot(np.linalg.inv(oc[:k_oc, :]))\n",
    "    return oc\n",
    "\n"
   ]
  },
  {
   "cell_type": "code",
   "execution_count": 3,
   "metadata": {},
   "outputs": [
    {
     "data": {
      "text/plain": "<Figure size 432x288 with 1 Axes>",
      "image/png": "[encoded data removed]"
     },
     "metadata": {},
     "output_type": "display_data"
    }
   ],
   "source": [
    "g_directed=nx.DiGraph()\n",
    "g_directed.add_edge(0,1)\n",
    "g_directed.add_edge(1,0)\n",
    "g_directed.add_edge(1,2)\n",
    "\n",
    "nx.draw(g_directed, with_labels = True)\n",
    "plt.show()\n",
    "\n"
   ]
  },
  {
   "cell_type": "code",
   "execution_count": 4,
   "metadata": {},
   "outputs": [],
   "source": [
    "A_directed = nx.adjacency_matrix(g_directed)\n",
    "A_symmetric = 1/2*(A_directed + A_directed.T)\n"
   ]
  },
  {
   "cell_type": "code",
   "execution_count": 5,
   "metadata": {},
   "outputs": [
    {
     "data": {
      "text/plain": "<Figure size 432x288 with 1 Axes>",
      "image/png": "[encoded data removed]"
     },
     "metadata": {},
     "output_type": "display_data"
    }
   ],
   "source": [
    "\n",
    "g_undirected = nx.from_numpy_array(A_symmetric)\n",
    "\n",
    "nx.draw(g_undirected, with_labels = True)\n",
    "plt.show()"
   ]
  },
  {
   "cell_type": "code",
   "execution_count": 6,
   "metadata": {},
   "outputs": [
    {
     "name": "stdout",
     "output_type": "stream",
     "text": [
      "(0.9125963856228956+0j)\n",
      "(0.6339745962155612+0j)\n",
      "0.6339745962155617\n"
     ]
    }
   ],
   "source": [
    "L_directed = nx.directed_laplacian_matrix(g_directed)\n",
    "L_undirected=nx.linalg.laplacian_matrix(g_undirected).todense()\n",
    "\n",
    "print(la.eig(L_directed)[0][2])\n",
    "print(la.eig(L_undirected)[0][2])\n",
    "print(nx.linalg.algebraic_connectivity(g_undirected))"
   ]
  },
  {
   "cell_type": "markdown",
   "metadata": {},
   "source": [
    "Compute orthogonal complement in order to compute directed algebraic connectivity as defined in https://www-tandfonline-com.proxy-ub.rug.nl/doi/pdf/10.1080/03081080500054810?needAccess=true\n",
    "The orthogonal complement of vector(s) is the set of all vectors orthogonal to given ones"
   ]
  },
  {
   "cell_type": "code",
   "execution_count": 7,
   "metadata": {},
   "outputs": [
    {
     "name": "stdout",
     "output_type": "stream",
     "text": [
      "[[ 1. -0.]\n",
      " [ 0.  1.]\n",
      " [ 1.  0.]\n",
      " [-1. -1.]\n",
      " [-1. -0.]]\n",
      "[[-0.06635725 -0.5303876 ]\n",
      " [-0.66845821  0.35297619]\n",
      " [-0.06635725 -0.5303876 ]\n",
      " [ 0.73481546  0.17741141]\n",
      " [ 0.06635725  0.5303876 ]]\n",
      "[[0. 0. 0.]\n",
      " [0. 0. 0.]]\n"
     ]
    }
   ],
   "source": [
    "xxx = np.array([[1,0,1,0,2], [0,1,1,1,0], [1,1,1,1,1]]).T\n",
    "ocn = np.round(orthogonal_complement(xxx, normalize=True), 2)\n",
    "print(ocn)\n",
    "print(orthogonal_complement(xxx, normalize=False))\n",
    "print(ocn.T.dot(xxx))"
   ]
  }
 ],
 "metadata": {
  "interpreter": {
   "hash": "c9d1d671da8284e133820c9faa046e5f7529aed0b24d7f8a3ea6e47ae604cc1b"
  },
  "kernelspec": {
   "display_name": "Python 3.9.7 64-bit ('brian': conda)",
   "name": "python3"
  },
  "language_info": {
   "codemirror_mode": {
    "name": "ipython",
    "version": 3
   },
   "file_extension": ".py",
   "mimetype": "text/x-python",
   "name": "python",
   "nbconvert_exporter": "python",
   "pygments_lexer": "ipython3",
   "version": "3.9.7"
  },
  "orig_nbformat": 4
 },
 "nbformat": 4,
 "nbformat_minor": 2
}